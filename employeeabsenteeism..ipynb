{
 "cells": [
  {
   "cell_type": "markdown",
   "metadata": {},
   "source": [
    "# Employee Absenteeism"
   ]
  },
  {
   "cell_type": "code",
   "execution_count": 1,
   "metadata": {},
   "outputs": [
    {
     "name": "stderr",
     "output_type": "stream",
     "text": [
      "Using TensorFlow backend.\n"
     ]
    }
   ],
   "source": [
    "#   LOADING THE REQUIRED LIBRARIES\n",
    "import os\n",
    "import pandas as pd\n",
    "import numpy as np\n",
    "from fancyimpute import KNN \n",
    "import matplotlib.pyplot as plt\n",
    "import seaborn as sns\n",
    "from scipy import stats\n",
    "from sklearn.metrics import mean_squared_error\n",
    "from sklearn.model_selection import train_test_split"
   ]
  },
  {
   "cell_type": "code",
   "execution_count": 2,
   "metadata": {},
   "outputs": [
    {
     "data": {
      "text/plain": [
       "'D:\\\\project2'"
      ]
     },
     "execution_count": 2,
     "metadata": {},
     "output_type": "execute_result"
    }
   ],
   "source": [
    "#   CHANGE AND GET THE WORKING DIRECTORY\n",
    "os.chdir(\"D:\\project2\")\n",
    "os.getcwd()"
   ]
  },
  {
   "cell_type": "code",
   "execution_count": 3,
   "metadata": {},
   "outputs": [],
   "source": [
    "# LOADING THE DATA\n",
    "emp_data = pd.read_excel(\"Absenteeism_at_work_Project.xls\")"
   ]
  },
  {
   "cell_type": "code",
   "execution_count": 4,
   "metadata": {},
   "outputs": [
    {
     "data": {
      "text/plain": [
       "pandas.core.frame.DataFrame"
      ]
     },
     "execution_count": 4,
     "metadata": {},
     "output_type": "execute_result"
    }
   ],
   "source": [
    "# GETTING TYPE OF THE DATASETS\n",
    "\n",
    "type(emp_data)"
   ]
  },
  {
   "cell_type": "code",
   "execution_count": 5,
   "metadata": {},
   "outputs": [
    {
     "data": {
      "text/html": [
       "<div>\n",
       "<style scoped>\n",
       "    .dataframe tbody tr th:only-of-type {\n",
       "        vertical-align: middle;\n",
       "    }\n",
       "\n",
       "    .dataframe tbody tr th {\n",
       "        vertical-align: top;\n",
       "    }\n",
       "\n",
       "    .dataframe thead th {\n",
       "        text-align: right;\n",
       "    }\n",
       "</style>\n",
       "<table border=\"1\" class=\"dataframe\">\n",
       "  <thead>\n",
       "    <tr style=\"text-align: right;\">\n",
       "      <th></th>\n",
       "      <th>ID</th>\n",
       "      <th>Reason for absence</th>\n",
       "      <th>Month of absence</th>\n",
       "      <th>Day of the week</th>\n",
       "      <th>Seasons</th>\n",
       "      <th>Transportation expense</th>\n",
       "      <th>Distance from Residence to Work</th>\n",
       "      <th>Service time</th>\n",
       "      <th>Age</th>\n",
       "      <th>Work load Average/day</th>\n",
       "      <th>...</th>\n",
       "      <th>Disciplinary failure</th>\n",
       "      <th>Education</th>\n",
       "      <th>Son</th>\n",
       "      <th>Social drinker</th>\n",
       "      <th>Social smoker</th>\n",
       "      <th>Pet</th>\n",
       "      <th>Weight</th>\n",
       "      <th>Height</th>\n",
       "      <th>Body mass index</th>\n",
       "      <th>Absenteeism time in hours</th>\n",
       "    </tr>\n",
       "  </thead>\n",
       "  <tbody>\n",
       "    <tr>\n",
       "      <th>0</th>\n",
       "      <td>11</td>\n",
       "      <td>26.0</td>\n",
       "      <td>7.0</td>\n",
       "      <td>3</td>\n",
       "      <td>1</td>\n",
       "      <td>289.0</td>\n",
       "      <td>36.0</td>\n",
       "      <td>13.0</td>\n",
       "      <td>33.0</td>\n",
       "      <td>239554.0</td>\n",
       "      <td>...</td>\n",
       "      <td>0.0</td>\n",
       "      <td>1.0</td>\n",
       "      <td>2.0</td>\n",
       "      <td>1.0</td>\n",
       "      <td>0.0</td>\n",
       "      <td>1.0</td>\n",
       "      <td>90.0</td>\n",
       "      <td>172.0</td>\n",
       "      <td>30.0</td>\n",
       "      <td>4.0</td>\n",
       "    </tr>\n",
       "    <tr>\n",
       "      <th>1</th>\n",
       "      <td>36</td>\n",
       "      <td>0.0</td>\n",
       "      <td>7.0</td>\n",
       "      <td>3</td>\n",
       "      <td>1</td>\n",
       "      <td>118.0</td>\n",
       "      <td>13.0</td>\n",
       "      <td>18.0</td>\n",
       "      <td>50.0</td>\n",
       "      <td>239554.0</td>\n",
       "      <td>...</td>\n",
       "      <td>1.0</td>\n",
       "      <td>1.0</td>\n",
       "      <td>1.0</td>\n",
       "      <td>1.0</td>\n",
       "      <td>0.0</td>\n",
       "      <td>0.0</td>\n",
       "      <td>98.0</td>\n",
       "      <td>178.0</td>\n",
       "      <td>31.0</td>\n",
       "      <td>0.0</td>\n",
       "    </tr>\n",
       "    <tr>\n",
       "      <th>2</th>\n",
       "      <td>3</td>\n",
       "      <td>23.0</td>\n",
       "      <td>7.0</td>\n",
       "      <td>4</td>\n",
       "      <td>1</td>\n",
       "      <td>179.0</td>\n",
       "      <td>51.0</td>\n",
       "      <td>18.0</td>\n",
       "      <td>38.0</td>\n",
       "      <td>239554.0</td>\n",
       "      <td>...</td>\n",
       "      <td>0.0</td>\n",
       "      <td>1.0</td>\n",
       "      <td>0.0</td>\n",
       "      <td>1.0</td>\n",
       "      <td>0.0</td>\n",
       "      <td>0.0</td>\n",
       "      <td>89.0</td>\n",
       "      <td>170.0</td>\n",
       "      <td>31.0</td>\n",
       "      <td>2.0</td>\n",
       "    </tr>\n",
       "    <tr>\n",
       "      <th>3</th>\n",
       "      <td>7</td>\n",
       "      <td>7.0</td>\n",
       "      <td>7.0</td>\n",
       "      <td>5</td>\n",
       "      <td>1</td>\n",
       "      <td>279.0</td>\n",
       "      <td>5.0</td>\n",
       "      <td>14.0</td>\n",
       "      <td>39.0</td>\n",
       "      <td>239554.0</td>\n",
       "      <td>...</td>\n",
       "      <td>0.0</td>\n",
       "      <td>1.0</td>\n",
       "      <td>2.0</td>\n",
       "      <td>1.0</td>\n",
       "      <td>1.0</td>\n",
       "      <td>0.0</td>\n",
       "      <td>68.0</td>\n",
       "      <td>168.0</td>\n",
       "      <td>24.0</td>\n",
       "      <td>4.0</td>\n",
       "    </tr>\n",
       "    <tr>\n",
       "      <th>4</th>\n",
       "      <td>11</td>\n",
       "      <td>23.0</td>\n",
       "      <td>7.0</td>\n",
       "      <td>5</td>\n",
       "      <td>1</td>\n",
       "      <td>289.0</td>\n",
       "      <td>36.0</td>\n",
       "      <td>13.0</td>\n",
       "      <td>33.0</td>\n",
       "      <td>239554.0</td>\n",
       "      <td>...</td>\n",
       "      <td>0.0</td>\n",
       "      <td>1.0</td>\n",
       "      <td>2.0</td>\n",
       "      <td>1.0</td>\n",
       "      <td>0.0</td>\n",
       "      <td>1.0</td>\n",
       "      <td>90.0</td>\n",
       "      <td>172.0</td>\n",
       "      <td>30.0</td>\n",
       "      <td>2.0</td>\n",
       "    </tr>\n",
       "    <tr>\n",
       "      <th>5</th>\n",
       "      <td>3</td>\n",
       "      <td>23.0</td>\n",
       "      <td>7.0</td>\n",
       "      <td>6</td>\n",
       "      <td>1</td>\n",
       "      <td>179.0</td>\n",
       "      <td>51.0</td>\n",
       "      <td>18.0</td>\n",
       "      <td>38.0</td>\n",
       "      <td>239554.0</td>\n",
       "      <td>...</td>\n",
       "      <td>0.0</td>\n",
       "      <td>1.0</td>\n",
       "      <td>0.0</td>\n",
       "      <td>1.0</td>\n",
       "      <td>0.0</td>\n",
       "      <td>0.0</td>\n",
       "      <td>89.0</td>\n",
       "      <td>170.0</td>\n",
       "      <td>31.0</td>\n",
       "      <td>NaN</td>\n",
       "    </tr>\n",
       "    <tr>\n",
       "      <th>6</th>\n",
       "      <td>10</td>\n",
       "      <td>22.0</td>\n",
       "      <td>7.0</td>\n",
       "      <td>6</td>\n",
       "      <td>1</td>\n",
       "      <td>NaN</td>\n",
       "      <td>52.0</td>\n",
       "      <td>3.0</td>\n",
       "      <td>28.0</td>\n",
       "      <td>239554.0</td>\n",
       "      <td>...</td>\n",
       "      <td>0.0</td>\n",
       "      <td>1.0</td>\n",
       "      <td>1.0</td>\n",
       "      <td>1.0</td>\n",
       "      <td>0.0</td>\n",
       "      <td>4.0</td>\n",
       "      <td>80.0</td>\n",
       "      <td>172.0</td>\n",
       "      <td>27.0</td>\n",
       "      <td>8.0</td>\n",
       "    </tr>\n",
       "    <tr>\n",
       "      <th>7</th>\n",
       "      <td>20</td>\n",
       "      <td>23.0</td>\n",
       "      <td>7.0</td>\n",
       "      <td>6</td>\n",
       "      <td>1</td>\n",
       "      <td>260.0</td>\n",
       "      <td>50.0</td>\n",
       "      <td>11.0</td>\n",
       "      <td>36.0</td>\n",
       "      <td>239554.0</td>\n",
       "      <td>...</td>\n",
       "      <td>0.0</td>\n",
       "      <td>1.0</td>\n",
       "      <td>4.0</td>\n",
       "      <td>1.0</td>\n",
       "      <td>0.0</td>\n",
       "      <td>0.0</td>\n",
       "      <td>65.0</td>\n",
       "      <td>168.0</td>\n",
       "      <td>23.0</td>\n",
       "      <td>4.0</td>\n",
       "    </tr>\n",
       "    <tr>\n",
       "      <th>8</th>\n",
       "      <td>14</td>\n",
       "      <td>19.0</td>\n",
       "      <td>7.0</td>\n",
       "      <td>2</td>\n",
       "      <td>1</td>\n",
       "      <td>155.0</td>\n",
       "      <td>12.0</td>\n",
       "      <td>14.0</td>\n",
       "      <td>34.0</td>\n",
       "      <td>239554.0</td>\n",
       "      <td>...</td>\n",
       "      <td>0.0</td>\n",
       "      <td>1.0</td>\n",
       "      <td>2.0</td>\n",
       "      <td>1.0</td>\n",
       "      <td>0.0</td>\n",
       "      <td>0.0</td>\n",
       "      <td>95.0</td>\n",
       "      <td>196.0</td>\n",
       "      <td>25.0</td>\n",
       "      <td>40.0</td>\n",
       "    </tr>\n",
       "    <tr>\n",
       "      <th>9</th>\n",
       "      <td>1</td>\n",
       "      <td>22.0</td>\n",
       "      <td>7.0</td>\n",
       "      <td>2</td>\n",
       "      <td>1</td>\n",
       "      <td>235.0</td>\n",
       "      <td>11.0</td>\n",
       "      <td>14.0</td>\n",
       "      <td>37.0</td>\n",
       "      <td>239554.0</td>\n",
       "      <td>...</td>\n",
       "      <td>0.0</td>\n",
       "      <td>3.0</td>\n",
       "      <td>1.0</td>\n",
       "      <td>0.0</td>\n",
       "      <td>0.0</td>\n",
       "      <td>1.0</td>\n",
       "      <td>88.0</td>\n",
       "      <td>172.0</td>\n",
       "      <td>29.0</td>\n",
       "      <td>8.0</td>\n",
       "    </tr>\n",
       "    <tr>\n",
       "      <th>10</th>\n",
       "      <td>20</td>\n",
       "      <td>1.0</td>\n",
       "      <td>7.0</td>\n",
       "      <td>2</td>\n",
       "      <td>1</td>\n",
       "      <td>260.0</td>\n",
       "      <td>50.0</td>\n",
       "      <td>11.0</td>\n",
       "      <td>36.0</td>\n",
       "      <td>239554.0</td>\n",
       "      <td>...</td>\n",
       "      <td>0.0</td>\n",
       "      <td>1.0</td>\n",
       "      <td>4.0</td>\n",
       "      <td>1.0</td>\n",
       "      <td>0.0</td>\n",
       "      <td>0.0</td>\n",
       "      <td>65.0</td>\n",
       "      <td>168.0</td>\n",
       "      <td>23.0</td>\n",
       "      <td>8.0</td>\n",
       "    </tr>\n",
       "    <tr>\n",
       "      <th>11</th>\n",
       "      <td>20</td>\n",
       "      <td>1.0</td>\n",
       "      <td>7.0</td>\n",
       "      <td>3</td>\n",
       "      <td>1</td>\n",
       "      <td>260.0</td>\n",
       "      <td>50.0</td>\n",
       "      <td>11.0</td>\n",
       "      <td>36.0</td>\n",
       "      <td>239554.0</td>\n",
       "      <td>...</td>\n",
       "      <td>0.0</td>\n",
       "      <td>1.0</td>\n",
       "      <td>4.0</td>\n",
       "      <td>1.0</td>\n",
       "      <td>0.0</td>\n",
       "      <td>0.0</td>\n",
       "      <td>65.0</td>\n",
       "      <td>168.0</td>\n",
       "      <td>23.0</td>\n",
       "      <td>8.0</td>\n",
       "    </tr>\n",
       "    <tr>\n",
       "      <th>12</th>\n",
       "      <td>20</td>\n",
       "      <td>11.0</td>\n",
       "      <td>7.0</td>\n",
       "      <td>4</td>\n",
       "      <td>1</td>\n",
       "      <td>260.0</td>\n",
       "      <td>50.0</td>\n",
       "      <td>11.0</td>\n",
       "      <td>36.0</td>\n",
       "      <td>239554.0</td>\n",
       "      <td>...</td>\n",
       "      <td>0.0</td>\n",
       "      <td>1.0</td>\n",
       "      <td>4.0</td>\n",
       "      <td>1.0</td>\n",
       "      <td>0.0</td>\n",
       "      <td>0.0</td>\n",
       "      <td>65.0</td>\n",
       "      <td>168.0</td>\n",
       "      <td>23.0</td>\n",
       "      <td>8.0</td>\n",
       "    </tr>\n",
       "    <tr>\n",
       "      <th>13</th>\n",
       "      <td>3</td>\n",
       "      <td>11.0</td>\n",
       "      <td>7.0</td>\n",
       "      <td>4</td>\n",
       "      <td>1</td>\n",
       "      <td>179.0</td>\n",
       "      <td>51.0</td>\n",
       "      <td>18.0</td>\n",
       "      <td>38.0</td>\n",
       "      <td>239554.0</td>\n",
       "      <td>...</td>\n",
       "      <td>0.0</td>\n",
       "      <td>1.0</td>\n",
       "      <td>0.0</td>\n",
       "      <td>1.0</td>\n",
       "      <td>0.0</td>\n",
       "      <td>0.0</td>\n",
       "      <td>89.0</td>\n",
       "      <td>170.0</td>\n",
       "      <td>31.0</td>\n",
       "      <td>1.0</td>\n",
       "    </tr>\n",
       "    <tr>\n",
       "      <th>14</th>\n",
       "      <td>3</td>\n",
       "      <td>23.0</td>\n",
       "      <td>7.0</td>\n",
       "      <td>4</td>\n",
       "      <td>1</td>\n",
       "      <td>179.0</td>\n",
       "      <td>51.0</td>\n",
       "      <td>18.0</td>\n",
       "      <td>38.0</td>\n",
       "      <td>239554.0</td>\n",
       "      <td>...</td>\n",
       "      <td>0.0</td>\n",
       "      <td>1.0</td>\n",
       "      <td>0.0</td>\n",
       "      <td>1.0</td>\n",
       "      <td>0.0</td>\n",
       "      <td>0.0</td>\n",
       "      <td>89.0</td>\n",
       "      <td>170.0</td>\n",
       "      <td>NaN</td>\n",
       "      <td>4.0</td>\n",
       "    </tr>\n",
       "  </tbody>\n",
       "</table>\n",
       "<p>15 rows × 21 columns</p>\n",
       "</div>"
      ],
      "text/plain": [
       "    ID  Reason for absence  Month of absence  Day of the week  Seasons  \\\n",
       "0   11                26.0               7.0                3        1   \n",
       "1   36                 0.0               7.0                3        1   \n",
       "2    3                23.0               7.0                4        1   \n",
       "3    7                 7.0               7.0                5        1   \n",
       "4   11                23.0               7.0                5        1   \n",
       "5    3                23.0               7.0                6        1   \n",
       "6   10                22.0               7.0                6        1   \n",
       "7   20                23.0               7.0                6        1   \n",
       "8   14                19.0               7.0                2        1   \n",
       "9    1                22.0               7.0                2        1   \n",
       "10  20                 1.0               7.0                2        1   \n",
       "11  20                 1.0               7.0                3        1   \n",
       "12  20                11.0               7.0                4        1   \n",
       "13   3                11.0               7.0                4        1   \n",
       "14   3                23.0               7.0                4        1   \n",
       "\n",
       "    Transportation expense  Distance from Residence to Work  Service time  \\\n",
       "0                    289.0                             36.0          13.0   \n",
       "1                    118.0                             13.0          18.0   \n",
       "2                    179.0                             51.0          18.0   \n",
       "3                    279.0                              5.0          14.0   \n",
       "4                    289.0                             36.0          13.0   \n",
       "5                    179.0                             51.0          18.0   \n",
       "6                      NaN                             52.0           3.0   \n",
       "7                    260.0                             50.0          11.0   \n",
       "8                    155.0                             12.0          14.0   \n",
       "9                    235.0                             11.0          14.0   \n",
       "10                   260.0                             50.0          11.0   \n",
       "11                   260.0                             50.0          11.0   \n",
       "12                   260.0                             50.0          11.0   \n",
       "13                   179.0                             51.0          18.0   \n",
       "14                   179.0                             51.0          18.0   \n",
       "\n",
       "     Age  Work load Average/day             ...              \\\n",
       "0   33.0                239554.0            ...               \n",
       "1   50.0                239554.0            ...               \n",
       "2   38.0                239554.0            ...               \n",
       "3   39.0                239554.0            ...               \n",
       "4   33.0                239554.0            ...               \n",
       "5   38.0                239554.0            ...               \n",
       "6   28.0                239554.0            ...               \n",
       "7   36.0                239554.0            ...               \n",
       "8   34.0                239554.0            ...               \n",
       "9   37.0                239554.0            ...               \n",
       "10  36.0                239554.0            ...               \n",
       "11  36.0                239554.0            ...               \n",
       "12  36.0                239554.0            ...               \n",
       "13  38.0                239554.0            ...               \n",
       "14  38.0                239554.0            ...               \n",
       "\n",
       "    Disciplinary failure  Education  Son  Social drinker  Social smoker  Pet  \\\n",
       "0                    0.0        1.0  2.0             1.0            0.0  1.0   \n",
       "1                    1.0        1.0  1.0             1.0            0.0  0.0   \n",
       "2                    0.0        1.0  0.0             1.0            0.0  0.0   \n",
       "3                    0.0        1.0  2.0             1.0            1.0  0.0   \n",
       "4                    0.0        1.0  2.0             1.0            0.0  1.0   \n",
       "5                    0.0        1.0  0.0             1.0            0.0  0.0   \n",
       "6                    0.0        1.0  1.0             1.0            0.0  4.0   \n",
       "7                    0.0        1.0  4.0             1.0            0.0  0.0   \n",
       "8                    0.0        1.0  2.0             1.0            0.0  0.0   \n",
       "9                    0.0        3.0  1.0             0.0            0.0  1.0   \n",
       "10                   0.0        1.0  4.0             1.0            0.0  0.0   \n",
       "11                   0.0        1.0  4.0             1.0            0.0  0.0   \n",
       "12                   0.0        1.0  4.0             1.0            0.0  0.0   \n",
       "13                   0.0        1.0  0.0             1.0            0.0  0.0   \n",
       "14                   0.0        1.0  0.0             1.0            0.0  0.0   \n",
       "\n",
       "    Weight  Height  Body mass index  Absenteeism time in hours  \n",
       "0     90.0   172.0             30.0                        4.0  \n",
       "1     98.0   178.0             31.0                        0.0  \n",
       "2     89.0   170.0             31.0                        2.0  \n",
       "3     68.0   168.0             24.0                        4.0  \n",
       "4     90.0   172.0             30.0                        2.0  \n",
       "5     89.0   170.0             31.0                        NaN  \n",
       "6     80.0   172.0             27.0                        8.0  \n",
       "7     65.0   168.0             23.0                        4.0  \n",
       "8     95.0   196.0             25.0                       40.0  \n",
       "9     88.0   172.0             29.0                        8.0  \n",
       "10    65.0   168.0             23.0                        8.0  \n",
       "11    65.0   168.0             23.0                        8.0  \n",
       "12    65.0   168.0             23.0                        8.0  \n",
       "13    89.0   170.0             31.0                        1.0  \n",
       "14    89.0   170.0              NaN                        4.0  \n",
       "\n",
       "[15 rows x 21 columns]"
      ]
     },
     "execution_count": 5,
     "metadata": {},
     "output_type": "execute_result"
    }
   ],
   "source": [
    "# OVERVIEW OF THE TRAIN AND TEST DATASETS\n",
    "\n",
    "\n",
    "emp_data.head(15)"
   ]
  },
  {
   "cell_type": "code",
   "execution_count": 6,
   "metadata": {},
   "outputs": [
    {
     "data": {
      "text/plain": [
       "(740, 21)"
      ]
     },
     "execution_count": 6,
     "metadata": {},
     "output_type": "execute_result"
    }
   ],
   "source": [
    "#Getting shapeof the datatype\n",
    "emp_data.shape\n"
   ]
  },
  {
   "cell_type": "code",
   "execution_count": 7,
   "metadata": {},
   "outputs": [
    {
     "name": "stdout",
     "output_type": "stream",
     "text": [
      "<class 'pandas.core.frame.DataFrame'>\n",
      "RangeIndex: 740 entries, 0 to 739\n",
      "Data columns (total 21 columns):\n",
      "ID                                 740 non-null int64\n",
      "Reason for absence                 737 non-null float64\n",
      "Month of absence                   739 non-null float64\n",
      "Day of the week                    740 non-null int64\n",
      "Seasons                            740 non-null int64\n",
      "Transportation expense             733 non-null float64\n",
      "Distance from Residence to Work    737 non-null float64\n",
      "Service time                       737 non-null float64\n",
      "Age                                737 non-null float64\n",
      "Work load Average/day              730 non-null float64\n",
      "Hit target                         734 non-null float64\n",
      "Disciplinary failure               734 non-null float64\n",
      "Education                          730 non-null float64\n",
      "Son                                734 non-null float64\n",
      "Social drinker                     737 non-null float64\n",
      "Social smoker                      736 non-null float64\n",
      "Pet                                738 non-null float64\n",
      "Weight                             739 non-null float64\n",
      "Height                             726 non-null float64\n",
      "Body mass index                    709 non-null float64\n",
      "Absenteeism time in hours          718 non-null float64\n",
      "dtypes: float64(18), int64(3)\n",
      "memory usage: 121.5 KB\n"
     ]
    }
   ],
   "source": [
    "# DATATYPES OF THE ALL THE VARIABLES\n",
    "\n",
    "\n",
    "emp_data.info()"
   ]
  },
  {
   "cell_type": "code",
   "execution_count": 8,
   "metadata": {},
   "outputs": [
    {
     "data": {
      "text/plain": [
       "ID                                 36\n",
       "Reason for absence                 28\n",
       "Month of absence                   13\n",
       "Day of the week                     5\n",
       "Seasons                             4\n",
       "Transportation expense             24\n",
       "Distance from Residence to Work    25\n",
       "Service time                       18\n",
       "Age                                22\n",
       "Work load Average/day              38\n",
       "Hit target                         13\n",
       "Disciplinary failure                2\n",
       "Education                           4\n",
       "Son                                 5\n",
       "Social drinker                      2\n",
       "Social smoker                       2\n",
       "Pet                                 6\n",
       "Weight                             26\n",
       "Height                             14\n",
       "Body mass index                    17\n",
       "Absenteeism time in hours          19\n",
       "dtype: int64"
      ]
     },
     "execution_count": 8,
     "metadata": {},
     "output_type": "execute_result"
    }
   ],
   "source": [
    "# Number of Unique values present in each variable\n",
    "emp_data.nunique()"
   ]
  },
  {
   "cell_type": "code",
   "execution_count": 9,
   "metadata": {},
   "outputs": [],
   "source": [
    "#Seprating categorical variable names\n",
    "cat_var = ['ID','Reason for absence','Month of absence','Day of the week',\n",
    "                     'Seasons','Disciplinary failure', 'Education', 'Social drinker',\n",
    "                     'Social smoker', 'Pet', 'Son']"
   ]
  },
  {
   "cell_type": "code",
   "execution_count": 10,
   "metadata": {},
   "outputs": [],
   "source": [
    "# Converting Variable into \"category \" data type\n",
    "for i in cat_var:\n",
    "    emp_data.loc[:,i] = emp_data.loc[:,i].astype('category')"
   ]
  },
  {
   "cell_type": "code",
   "execution_count": 11,
   "metadata": {},
   "outputs": [
    {
     "name": "stdout",
     "output_type": "stream",
     "text": [
      "<class 'pandas.core.frame.DataFrame'>\n",
      "RangeIndex: 740 entries, 0 to 739\n",
      "Data columns (total 21 columns):\n",
      "ID                                 740 non-null category\n",
      "Reason for absence                 737 non-null category\n",
      "Month of absence                   739 non-null category\n",
      "Day of the week                    740 non-null category\n",
      "Seasons                            740 non-null category\n",
      "Transportation expense             733 non-null float64\n",
      "Distance from Residence to Work    737 non-null float64\n",
      "Service time                       737 non-null float64\n",
      "Age                                737 non-null float64\n",
      "Work load Average/day              730 non-null float64\n",
      "Hit target                         734 non-null float64\n",
      "Disciplinary failure               734 non-null category\n",
      "Education                          730 non-null category\n",
      "Son                                734 non-null category\n",
      "Social drinker                     737 non-null category\n",
      "Social smoker                      736 non-null category\n",
      "Pet                                738 non-null category\n",
      "Weight                             739 non-null float64\n",
      "Height                             726 non-null float64\n",
      "Body mass index                    709 non-null float64\n",
      "Absenteeism time in hours          718 non-null float64\n",
      "dtypes: category(11), float64(10)\n",
      "memory usage: 70.8 KB\n"
     ]
    }
   ],
   "source": [
    "# DATATYPES OF THE ALL THE VARIABLES\n",
    "emp_data.info()"
   ]
  },
  {
   "cell_type": "markdown",
   "metadata": {},
   "source": [
    "# Missing Value Analysis"
   ]
  },
  {
   "cell_type": "code",
   "execution_count": 12,
   "metadata": {},
   "outputs": [],
   "source": [
    "#Create dataframe with missing percentage\n",
    "missing_val = pd.DataFrame(emp_data.isnull().sum())\n",
    "\n",
    "#Reset index\n",
    "missing_val = missing_val.reset_index()\n",
    "\n",
    "#Rename variable\n",
    "missing_val = missing_val.rename(columns = {'index': 'Variables', 0: 'Missing_percentage'})\n",
    "\n",
    "#Calculate percentage\n",
    "missing_val['Missing_percentage'] = (missing_val['Missing_percentage']/len(emp_data))*100\n",
    "\n",
    "#descending order\n",
    "missing_val = missing_val.sort_values('Missing_percentage', ascending = False).reset_index(drop = True)\n",
    "\n",
    "#save output results \n",
    "missing_val.to_csv(\"Miising_perc.csv\", index = False)"
   ]
  },
  {
   "cell_type": "code",
   "execution_count": 13,
   "metadata": {},
   "outputs": [
    {
     "data": {
      "text/html": [
       "<div>\n",
       "<style scoped>\n",
       "    .dataframe tbody tr th:only-of-type {\n",
       "        vertical-align: middle;\n",
       "    }\n",
       "\n",
       "    .dataframe tbody tr th {\n",
       "        vertical-align: top;\n",
       "    }\n",
       "\n",
       "    .dataframe thead th {\n",
       "        text-align: right;\n",
       "    }\n",
       "</style>\n",
       "<table border=\"1\" class=\"dataframe\">\n",
       "  <thead>\n",
       "    <tr style=\"text-align: right;\">\n",
       "      <th></th>\n",
       "      <th>Variables</th>\n",
       "      <th>Missing_percentage</th>\n",
       "    </tr>\n",
       "  </thead>\n",
       "  <tbody>\n",
       "    <tr>\n",
       "      <th>0</th>\n",
       "      <td>Body mass index</td>\n",
       "      <td>4.189189</td>\n",
       "    </tr>\n",
       "    <tr>\n",
       "      <th>1</th>\n",
       "      <td>Absenteeism time in hours</td>\n",
       "      <td>2.972973</td>\n",
       "    </tr>\n",
       "    <tr>\n",
       "      <th>2</th>\n",
       "      <td>Height</td>\n",
       "      <td>1.891892</td>\n",
       "    </tr>\n",
       "    <tr>\n",
       "      <th>3</th>\n",
       "      <td>Work load Average/day</td>\n",
       "      <td>1.351351</td>\n",
       "    </tr>\n",
       "    <tr>\n",
       "      <th>4</th>\n",
       "      <td>Education</td>\n",
       "      <td>1.351351</td>\n",
       "    </tr>\n",
       "    <tr>\n",
       "      <th>5</th>\n",
       "      <td>Transportation expense</td>\n",
       "      <td>0.945946</td>\n",
       "    </tr>\n",
       "    <tr>\n",
       "      <th>6</th>\n",
       "      <td>Son</td>\n",
       "      <td>0.810811</td>\n",
       "    </tr>\n",
       "    <tr>\n",
       "      <th>7</th>\n",
       "      <td>Disciplinary failure</td>\n",
       "      <td>0.810811</td>\n",
       "    </tr>\n",
       "    <tr>\n",
       "      <th>8</th>\n",
       "      <td>Hit target</td>\n",
       "      <td>0.810811</td>\n",
       "    </tr>\n",
       "    <tr>\n",
       "      <th>9</th>\n",
       "      <td>Social smoker</td>\n",
       "      <td>0.540541</td>\n",
       "    </tr>\n",
       "    <tr>\n",
       "      <th>10</th>\n",
       "      <td>Age</td>\n",
       "      <td>0.405405</td>\n",
       "    </tr>\n",
       "    <tr>\n",
       "      <th>11</th>\n",
       "      <td>Reason for absence</td>\n",
       "      <td>0.405405</td>\n",
       "    </tr>\n",
       "    <tr>\n",
       "      <th>12</th>\n",
       "      <td>Service time</td>\n",
       "      <td>0.405405</td>\n",
       "    </tr>\n",
       "    <tr>\n",
       "      <th>13</th>\n",
       "      <td>Distance from Residence to Work</td>\n",
       "      <td>0.405405</td>\n",
       "    </tr>\n",
       "    <tr>\n",
       "      <th>14</th>\n",
       "      <td>Social drinker</td>\n",
       "      <td>0.405405</td>\n",
       "    </tr>\n",
       "    <tr>\n",
       "      <th>15</th>\n",
       "      <td>Pet</td>\n",
       "      <td>0.270270</td>\n",
       "    </tr>\n",
       "    <tr>\n",
       "      <th>16</th>\n",
       "      <td>Weight</td>\n",
       "      <td>0.135135</td>\n",
       "    </tr>\n",
       "    <tr>\n",
       "      <th>17</th>\n",
       "      <td>Month of absence</td>\n",
       "      <td>0.135135</td>\n",
       "    </tr>\n",
       "    <tr>\n",
       "      <th>18</th>\n",
       "      <td>Seasons</td>\n",
       "      <td>0.000000</td>\n",
       "    </tr>\n",
       "    <tr>\n",
       "      <th>19</th>\n",
       "      <td>Day of the week</td>\n",
       "      <td>0.000000</td>\n",
       "    </tr>\n",
       "    <tr>\n",
       "      <th>20</th>\n",
       "      <td>ID</td>\n",
       "      <td>0.000000</td>\n",
       "    </tr>\n",
       "  </tbody>\n",
       "</table>\n",
       "</div>"
      ],
      "text/plain": [
       "                          Variables  Missing_percentage\n",
       "0                   Body mass index            4.189189\n",
       "1         Absenteeism time in hours            2.972973\n",
       "2                            Height            1.891892\n",
       "3            Work load Average/day             1.351351\n",
       "4                         Education            1.351351\n",
       "5            Transportation expense            0.945946\n",
       "6                               Son            0.810811\n",
       "7              Disciplinary failure            0.810811\n",
       "8                        Hit target            0.810811\n",
       "9                     Social smoker            0.540541\n",
       "10                              Age            0.405405\n",
       "11               Reason for absence            0.405405\n",
       "12                     Service time            0.405405\n",
       "13  Distance from Residence to Work            0.405405\n",
       "14                   Social drinker            0.405405\n",
       "15                              Pet            0.270270\n",
       "16                           Weight            0.135135\n",
       "17                 Month of absence            0.135135\n",
       "18                          Seasons            0.000000\n",
       "19                  Day of the week            0.000000\n",
       "20                               ID            0.000000"
      ]
     },
     "execution_count": 13,
     "metadata": {},
     "output_type": "execute_result"
    }
   ],
   "source": [
    "#Variable wise missing value percentage \n",
    "missing_val"
   ]
  },
  {
   "cell_type": "code",
   "execution_count": 14,
   "metadata": {},
   "outputs": [
    {
     "data": {
      "text/plain": [
       "32.0"
      ]
     },
     "execution_count": 14,
     "metadata": {},
     "output_type": "execute_result"
    }
   ],
   "source": [
    "emp_data['Body mass index'].loc[70]"
   ]
  },
  {
   "cell_type": "code",
   "execution_count": 15,
   "metadata": {},
   "outputs": [],
   "source": [
    "#imputation method\n",
    "#emp_data['Body mass index'].loc[70]=32\n",
    "#Actual value = 32\n",
    "#Mean =26.6768\n",
    "#Median = 25.0\n",
    "#KNN = 29.35\n",
    "\n",
    "#create missing value\n",
    "#emp_data['Body mass index'].loc[70] = np.nan"
   ]
  },
  {
   "cell_type": "code",
   "execution_count": 16,
   "metadata": {},
   "outputs": [
    {
     "data": {
      "text/plain": [
       "32.0"
      ]
     },
     "execution_count": 16,
     "metadata": {},
     "output_type": "execute_result"
    }
   ],
   "source": [
    "emp_data['Body mass index'].loc[70]"
   ]
  },
  {
   "cell_type": "code",
   "execution_count": 17,
   "metadata": {},
   "outputs": [],
   "source": [
    "#Impute with mean\n",
    "#emp_data['Body mass index']= emp_data['Body mass index'].fillna(emp_data['Body mass index'].mean())"
   ]
  },
  {
   "cell_type": "code",
   "execution_count": 18,
   "metadata": {},
   "outputs": [],
   "source": [
    "#Impute with median\n",
    "#emp_data['Body mass index']= emp_data['Body mass index'].fillna(emp_data['Body mass index'].median())"
   ]
  },
  {
   "cell_type": "code",
   "execution_count": 19,
   "metadata": {},
   "outputs": [],
   "source": [
    "#KNN imputation\n",
    "#Assigning levels to the categories\n",
    "lis = []\n",
    "for i in range(0, emp_data.shape[1]):\n",
    "    #print(i)\n",
    "    if(emp_data.iloc[:,i].dtypes == 'object'):\n",
    "        emp_data.iloc[:,i] = pd.Categorical(emp_data.iloc[:,i])\n",
    "        #print(emp_data[[i]])\n",
    "        emp_data.iloc[:,i] = emp_data.iloc[:,i].cat.codes \n",
    "        emp_data.iloc[:,i] = emp_data.iloc[:,i].astype('object')\n",
    "        \n",
    "        lis.append(emp_data.columns[i])\n",
    "        "
   ]
  },
  {
   "cell_type": "code",
   "execution_count": 20,
   "metadata": {},
   "outputs": [],
   "source": [
    "#replace -1 with NA to impute\n",
    "for i in range(0, emp_data.shape[1]):\n",
    "    emp_data.iloc[:,i] = emp_data.iloc[:,i].replace(-1, np.nan) "
   ]
  },
  {
   "cell_type": "code",
   "execution_count": 21,
   "metadata": {},
   "outputs": [
    {
     "name": "stdout",
     "output_type": "stream",
     "text": [
      "Imputing row 1/740 with 0 missing, elapsed time: 0.138\n",
      "Imputing row 101/740 with 1 missing, elapsed time: 0.140\n",
      "Imputing row 201/740 with 0 missing, elapsed time: 0.141\n",
      "Imputing row 301/740 with 0 missing, elapsed time: 0.142\n",
      "Imputing row 401/740 with 0 missing, elapsed time: 0.143\n",
      "Imputing row 501/740 with 0 missing, elapsed time: 0.144\n",
      "Imputing row 601/740 with 0 missing, elapsed time: 0.144\n",
      "Imputing row 701/740 with 0 missing, elapsed time: 0.145\n"
     ]
    }
   ],
   "source": [
    "#Apply KNN imputation algorithm\n",
    "emp_data = pd.DataFrame(KNN(k = 3).fit_transform(emp_data), columns = emp_data.columns)"
   ]
  },
  {
   "cell_type": "code",
   "execution_count": 22,
   "metadata": {},
   "outputs": [
    {
     "name": "stdout",
     "output_type": "stream",
     "text": [
      "<class 'pandas.core.frame.DataFrame'>\n",
      "RangeIndex: 740 entries, 0 to 739\n",
      "Data columns (total 21 columns):\n",
      "ID                                 740 non-null float64\n",
      "Reason for absence                 740 non-null float64\n",
      "Month of absence                   740 non-null float64\n",
      "Day of the week                    740 non-null float64\n",
      "Seasons                            740 non-null float64\n",
      "Transportation expense             740 non-null float64\n",
      "Distance from Residence to Work    740 non-null float64\n",
      "Service time                       740 non-null float64\n",
      "Age                                740 non-null float64\n",
      "Work load Average/day              740 non-null float64\n",
      "Hit target                         740 non-null float64\n",
      "Disciplinary failure               740 non-null float64\n",
      "Education                          740 non-null float64\n",
      "Son                                740 non-null float64\n",
      "Social drinker                     740 non-null float64\n",
      "Social smoker                      740 non-null float64\n",
      "Pet                                740 non-null float64\n",
      "Weight                             740 non-null float64\n",
      "Height                             740 non-null float64\n",
      "Body mass index                    740 non-null float64\n",
      "Absenteeism time in hours          740 non-null float64\n",
      "dtypes: float64(21)\n",
      "memory usage: 121.5 KB\n"
     ]
    }
   ],
   "source": [
    "emp_data.info()"
   ]
  },
  {
   "cell_type": "code",
   "execution_count": 23,
   "metadata": {},
   "outputs": [],
   "source": [
    "#Convert into proper datatypes\n",
    "for i in cat_var:\n",
    "    emp_data.loc[:,i] = emp_data.loc[:,i].round()\n",
    "    emp_data.loc[:,i] = emp_data.loc[:,i].astype('category')\n",
    "\n",
    "   \n",
    "    "
   ]
  },
  {
   "cell_type": "code",
   "execution_count": 24,
   "metadata": {},
   "outputs": [],
   "source": [
    "missing_val = pd.DataFrame(emp_data.isnull().sum())"
   ]
  },
  {
   "cell_type": "code",
   "execution_count": 25,
   "metadata": {},
   "outputs": [
    {
     "data": {
      "text/html": [
       "<div>\n",
       "<style scoped>\n",
       "    .dataframe tbody tr th:only-of-type {\n",
       "        vertical-align: middle;\n",
       "    }\n",
       "\n",
       "    .dataframe tbody tr th {\n",
       "        vertical-align: top;\n",
       "    }\n",
       "\n",
       "    .dataframe thead th {\n",
       "        text-align: right;\n",
       "    }\n",
       "</style>\n",
       "<table border=\"1\" class=\"dataframe\">\n",
       "  <thead>\n",
       "    <tr style=\"text-align: right;\">\n",
       "      <th></th>\n",
       "      <th>0</th>\n",
       "    </tr>\n",
       "  </thead>\n",
       "  <tbody>\n",
       "    <tr>\n",
       "      <th>ID</th>\n",
       "      <td>0</td>\n",
       "    </tr>\n",
       "    <tr>\n",
       "      <th>Reason for absence</th>\n",
       "      <td>0</td>\n",
       "    </tr>\n",
       "    <tr>\n",
       "      <th>Month of absence</th>\n",
       "      <td>0</td>\n",
       "    </tr>\n",
       "    <tr>\n",
       "      <th>Day of the week</th>\n",
       "      <td>0</td>\n",
       "    </tr>\n",
       "    <tr>\n",
       "      <th>Seasons</th>\n",
       "      <td>0</td>\n",
       "    </tr>\n",
       "    <tr>\n",
       "      <th>Transportation expense</th>\n",
       "      <td>0</td>\n",
       "    </tr>\n",
       "    <tr>\n",
       "      <th>Distance from Residence to Work</th>\n",
       "      <td>0</td>\n",
       "    </tr>\n",
       "    <tr>\n",
       "      <th>Service time</th>\n",
       "      <td>0</td>\n",
       "    </tr>\n",
       "    <tr>\n",
       "      <th>Age</th>\n",
       "      <td>0</td>\n",
       "    </tr>\n",
       "    <tr>\n",
       "      <th>Work load Average/day</th>\n",
       "      <td>0</td>\n",
       "    </tr>\n",
       "    <tr>\n",
       "      <th>Hit target</th>\n",
       "      <td>0</td>\n",
       "    </tr>\n",
       "    <tr>\n",
       "      <th>Disciplinary failure</th>\n",
       "      <td>0</td>\n",
       "    </tr>\n",
       "    <tr>\n",
       "      <th>Education</th>\n",
       "      <td>0</td>\n",
       "    </tr>\n",
       "    <tr>\n",
       "      <th>Son</th>\n",
       "      <td>0</td>\n",
       "    </tr>\n",
       "    <tr>\n",
       "      <th>Social drinker</th>\n",
       "      <td>0</td>\n",
       "    </tr>\n",
       "    <tr>\n",
       "      <th>Social smoker</th>\n",
       "      <td>0</td>\n",
       "    </tr>\n",
       "    <tr>\n",
       "      <th>Pet</th>\n",
       "      <td>0</td>\n",
       "    </tr>\n",
       "    <tr>\n",
       "      <th>Weight</th>\n",
       "      <td>0</td>\n",
       "    </tr>\n",
       "    <tr>\n",
       "      <th>Height</th>\n",
       "      <td>0</td>\n",
       "    </tr>\n",
       "    <tr>\n",
       "      <th>Body mass index</th>\n",
       "      <td>0</td>\n",
       "    </tr>\n",
       "    <tr>\n",
       "      <th>Absenteeism time in hours</th>\n",
       "      <td>0</td>\n",
       "    </tr>\n",
       "  </tbody>\n",
       "</table>\n",
       "</div>"
      ],
      "text/plain": [
       "                                 0\n",
       "ID                               0\n",
       "Reason for absence               0\n",
       "Month of absence                 0\n",
       "Day of the week                  0\n",
       "Seasons                          0\n",
       "Transportation expense           0\n",
       "Distance from Residence to Work  0\n",
       "Service time                     0\n",
       "Age                              0\n",
       "Work load Average/day            0\n",
       "Hit target                       0\n",
       "Disciplinary failure             0\n",
       "Education                        0\n",
       "Son                              0\n",
       "Social drinker                   0\n",
       "Social smoker                    0\n",
       "Pet                              0\n",
       "Weight                           0\n",
       "Height                           0\n",
       "Body mass index                  0\n",
       "Absenteeism time in hours        0"
      ]
     },
     "execution_count": 25,
     "metadata": {},
     "output_type": "execute_result"
    }
   ],
   "source": [
    "missing_val"
   ]
  },
  {
   "cell_type": "markdown",
   "metadata": {},
   "source": [
    "# Outlier Analysis"
   ]
  },
  {
   "cell_type": "code",
   "execution_count": 26,
   "metadata": {},
   "outputs": [],
   "source": [
    "#separating continuous variable of the dataset\n",
    "cont_var = ['Distance from Residence to Work', 'Service time', 'Age', 'Work load Average/day ', 'Transportation expense',\n",
    "       'Hit target', 'Weight', 'Height', 'Body mass index', 'Absenteeism time in hours']\n"
   ]
  },
  {
   "cell_type": "code",
   "execution_count": 27,
   "metadata": {},
   "outputs": [
    {
     "data": {
      "text/plain": [
       "Text(0, 0.5, 'Values')"
      ]
     },
     "execution_count": 27,
     "metadata": {},
     "output_type": "execute_result"
    },
    {
     "data": {
      "image/png": "[encoded data removed]",
      "text/plain": [
       "<Figure size 432x288 with 1 Axes>"
      ]
     },
     "metadata": {
      "needs_background": "light"
     },
     "output_type": "display_data"
    }
   ],
   "source": [
    "# Box plot to detect the outliers of variable \"Distance from Residence to Work\"\n",
    "bp =plt.boxplot(emp_data['Distance from Residence to Work'])\n",
    "plt.setp(bp['boxes'], color='blue')\n",
    "plt.setp(bp['whiskers'], color='black')\n",
    "plt.setp(bp['fliers'], color='red')\n",
    "plt.xlabel(\"Distance from Residence to Work\")\n",
    "plt.title(\"BoxPlot of VariableDistance from Residence to Work \")\n",
    "plt.ylabel('Values')"
   ]
  },
  {
   "cell_type": "code",
   "execution_count": 28,
   "metadata": {},
   "outputs": [
    {
     "data": {
      "text/plain": [
       "Text(0, 0.5, 'Values')"
      ]
     },
     "execution_count": 28,
     "metadata": {},
     "output_type": "execute_result"
    },
    {
     "data": {
      "image/png": "[encoded data removed]",
      "text/plain": [
       "<Figure size 432x288 with 1 Axes>"
      ]
     },
     "metadata": {
      "needs_background": "light"
     },
     "output_type": "display_data"
    }
   ],
   "source": [
    "# Box plot to detect the outliers of variable \"Transportation expense\"\n",
    "bp =plt.boxplot(emp_data['Transportation expense'])\n",
    "plt.setp(bp['boxes'], color='blue')\n",
    "plt.setp(bp['whiskers'], color='black')\n",
    "plt.setp(bp['fliers'], color='red')\n",
    "plt.xlabel(\"Transportation expense\")\n",
    "plt.title(\"BoxPlot of Variable Transportation expense \")\n",
    "plt.ylabel('Values')"
   ]
  },
  {
   "cell_type": "code",
   "execution_count": 29,
   "metadata": {},
   "outputs": [
    {
     "data": {
      "text/plain": [
       "Text(0, 0.5, 'Values')"
      ]
     },
     "execution_count": 29,
     "metadata": {},
     "output_type": "execute_result"
    },
    {
     "data": {
      "image/png": "[encoded data removed]",
      "text/plain": [
       "<Figure size 432x288 with 1 Axes>"
      ]
     },
     "metadata": {
      "needs_background": "light"
     },
     "output_type": "display_data"
    }
   ],
   "source": [
    "# Box plot to detect the outliers of variable \"Absenteeism time in hours\"\n",
    "bp =plt.boxplot(emp_data['Absenteeism time in hours'])\n",
    "plt.setp(bp['boxes'], color='blue')\n",
    "plt.setp(bp['whiskers'], color='black')\n",
    "plt.setp(bp['fliers'], color='red')\n",
    "plt.xlabel(\"Absenteeism time in hours\")\n",
    "plt.title(\"Absenteeism time in hours \")\n",
    "plt.ylabel('Values')"
   ]
  },
  {
   "cell_type": "code",
   "execution_count": 30,
   "metadata": {
    "scrolled": true
   },
   "outputs": [
    {
     "data": {
      "text/plain": [
       "Text(0, 0.5, 'Values')"
      ]
     },
     "execution_count": 30,
     "metadata": {},
     "output_type": "execute_result"
    },
    {
     "data": {
      "image/png": "[encoded data removed]",
      "text/plain": [
       "<Figure size 432x288 with 1 Axes>"
      ]
     },
     "metadata": {
      "needs_background": "light"
     },
     "output_type": "display_data"
    }
   ],
   "source": [
    "# Box plot to detect the outliers of variable \"Body mass index\"\n",
    "bp =plt.boxplot(emp_data['Body mass index'])\n",
    "plt.setp(bp['boxes'], color='blue')\n",
    "plt.setp(bp['whiskers'], color='black')\n",
    "plt.setp(bp['fliers'], color='red')\n",
    "plt.xlabel(\"Body mass index\")\n",
    "plt.title(\"Body mass index \")\n",
    "plt.ylabel('Values')"
   ]
  },
  {
   "cell_type": "code",
   "execution_count": 31,
   "metadata": {},
   "outputs": [
    {
     "data": {
      "text/plain": [
       "['Distance from Residence to Work',\n",
       " 'Service time',\n",
       " 'Age',\n",
       " 'Work load Average/day ',\n",
       " 'Transportation expense',\n",
       " 'Hit target',\n",
       " 'Weight',\n",
       " 'Height',\n",
       " 'Body mass index',\n",
       " 'Absenteeism time in hours']"
      ]
     },
     "execution_count": 31,
     "metadata": {},
     "output_type": "execute_result"
    }
   ],
   "source": [
    "cont_var"
   ]
  },
  {
   "cell_type": "code",
   "execution_count": 32,
   "metadata": {},
   "outputs": [
    {
     "name": "stdout",
     "output_type": "stream",
     "text": [
      "Distance from Residence to Work\n",
      "-35.0\n",
      "101.0\n",
      "Service time\n",
      "-1.5\n",
      "26.5\n",
      "Age\n",
      "17.5\n",
      "53.5\n",
      "Work load Average/day \n",
      "183688.0\n",
      "345552.0\n",
      "Transportation expense\n",
      "57.5\n",
      "381.5\n",
      "Hit target\n",
      "87.0\n",
      "103.0\n",
      "Weight\n",
      "39.0\n",
      "119.0\n",
      "Height\n",
      "164.5\n",
      "176.5\n",
      "Body mass index\n",
      "13.5\n",
      "41.5\n",
      "Absenteeism time in hours\n",
      "-7.0\n",
      "17.0\n"
     ]
    }
   ],
   "source": [
    "# DETECTING OUTLIERS AND REPLACING IT WITH NA(NULL VALUE)\n",
    "\n",
    "\n",
    "for i in cont_var:\n",
    "    print(i)\n",
    "    q75, q25 = np.percentile(emp_data.loc[:,i], [75 ,25])\n",
    "    iqr = q75 - q25\n",
    "    min = q25 - (iqr*1.5)\n",
    "    max = q75 + (iqr*1.5)\n",
    "    print(min)\n",
    "    print(max)\n",
    "    # #Replace with NA\n",
    "    emp_data.loc[emp_data[i] < min,i]=np.nan\n",
    "    emp_data.loc[emp_data[i] > max,i]=np.nan"
   ]
  },
  {
   "cell_type": "code",
   "execution_count": 33,
   "metadata": {},
   "outputs": [],
   "source": [
    "# AFTER REPLACING OUTLIERS WITH NA GETTING THE MISSING VALUES INTO THE DATASETS\n",
    "\n",
    "\n",
    "missing_val = pd.DataFrame(emp_data.isnull().sum())\n"
   ]
  },
  {
   "cell_type": "code",
   "execution_count": 34,
   "metadata": {},
   "outputs": [
    {
     "data": {
      "text/html": [
       "<div>\n",
       "<style scoped>\n",
       "    .dataframe tbody tr th:only-of-type {\n",
       "        vertical-align: middle;\n",
       "    }\n",
       "\n",
       "    .dataframe tbody tr th {\n",
       "        vertical-align: top;\n",
       "    }\n",
       "\n",
       "    .dataframe thead th {\n",
       "        text-align: right;\n",
       "    }\n",
       "</style>\n",
       "<table border=\"1\" class=\"dataframe\">\n",
       "  <thead>\n",
       "    <tr style=\"text-align: right;\">\n",
       "      <th></th>\n",
       "      <th>0</th>\n",
       "    </tr>\n",
       "  </thead>\n",
       "  <tbody>\n",
       "    <tr>\n",
       "      <th>ID</th>\n",
       "      <td>0</td>\n",
       "    </tr>\n",
       "    <tr>\n",
       "      <th>Reason for absence</th>\n",
       "      <td>0</td>\n",
       "    </tr>\n",
       "    <tr>\n",
       "      <th>Month of absence</th>\n",
       "      <td>0</td>\n",
       "    </tr>\n",
       "    <tr>\n",
       "      <th>Day of the week</th>\n",
       "      <td>0</td>\n",
       "    </tr>\n",
       "    <tr>\n",
       "      <th>Seasons</th>\n",
       "      <td>0</td>\n",
       "    </tr>\n",
       "    <tr>\n",
       "      <th>Transportation expense</th>\n",
       "      <td>3</td>\n",
       "    </tr>\n",
       "    <tr>\n",
       "      <th>Distance from Residence to Work</th>\n",
       "      <td>0</td>\n",
       "    </tr>\n",
       "    <tr>\n",
       "      <th>Service time</th>\n",
       "      <td>5</td>\n",
       "    </tr>\n",
       "    <tr>\n",
       "      <th>Age</th>\n",
       "      <td>8</td>\n",
       "    </tr>\n",
       "    <tr>\n",
       "      <th>Work load Average/day</th>\n",
       "      <td>31</td>\n",
       "    </tr>\n",
       "    <tr>\n",
       "      <th>Hit target</th>\n",
       "      <td>19</td>\n",
       "    </tr>\n",
       "    <tr>\n",
       "      <th>Disciplinary failure</th>\n",
       "      <td>0</td>\n",
       "    </tr>\n",
       "    <tr>\n",
       "      <th>Education</th>\n",
       "      <td>0</td>\n",
       "    </tr>\n",
       "    <tr>\n",
       "      <th>Son</th>\n",
       "      <td>0</td>\n",
       "    </tr>\n",
       "    <tr>\n",
       "      <th>Social drinker</th>\n",
       "      <td>0</td>\n",
       "    </tr>\n",
       "    <tr>\n",
       "      <th>Social smoker</th>\n",
       "      <td>0</td>\n",
       "    </tr>\n",
       "    <tr>\n",
       "      <th>Pet</th>\n",
       "      <td>0</td>\n",
       "    </tr>\n",
       "    <tr>\n",
       "      <th>Weight</th>\n",
       "      <td>0</td>\n",
       "    </tr>\n",
       "    <tr>\n",
       "      <th>Height</th>\n",
       "      <td>119</td>\n",
       "    </tr>\n",
       "    <tr>\n",
       "      <th>Body mass index</th>\n",
       "      <td>0</td>\n",
       "    </tr>\n",
       "    <tr>\n",
       "      <th>Absenteeism time in hours</th>\n",
       "      <td>46</td>\n",
       "    </tr>\n",
       "  </tbody>\n",
       "</table>\n",
       "</div>"
      ],
      "text/plain": [
       "                                   0\n",
       "ID                                 0\n",
       "Reason for absence                 0\n",
       "Month of absence                   0\n",
       "Day of the week                    0\n",
       "Seasons                            0\n",
       "Transportation expense             3\n",
       "Distance from Residence to Work    0\n",
       "Service time                       5\n",
       "Age                                8\n",
       "Work load Average/day             31\n",
       "Hit target                        19\n",
       "Disciplinary failure               0\n",
       "Education                          0\n",
       "Son                                0\n",
       "Social drinker                     0\n",
       "Social smoker                      0\n",
       "Pet                                0\n",
       "Weight                             0\n",
       "Height                           119\n",
       "Body mass index                    0\n",
       "Absenteeism time in hours         46"
      ]
     },
     "execution_count": 34,
     "metadata": {},
     "output_type": "execute_result"
    }
   ],
   "source": [
    "missing_val"
   ]
  },
  {
   "cell_type": "code",
   "execution_count": 35,
   "metadata": {},
   "outputs": [
    {
     "name": "stdout",
     "output_type": "stream",
     "text": [
      "Imputing row 1/740 with 0 missing, elapsed time: 0.139\n",
      "Imputing row 101/740 with 1 missing, elapsed time: 0.141\n",
      "Imputing row 201/740 with 0 missing, elapsed time: 0.142\n",
      "Imputing row 301/740 with 0 missing, elapsed time: 0.144\n",
      "Imputing row 401/740 with 0 missing, elapsed time: 0.145\n",
      "Imputing row 501/740 with 0 missing, elapsed time: 0.146\n",
      "Imputing row 601/740 with 0 missing, elapsed time: 0.147\n",
      "Imputing row 701/740 with 0 missing, elapsed time: 0.149\n"
     ]
    }
   ],
   "source": [
    "#Apply KNN imputation algorithm\n",
    "emp_data = pd.DataFrame(KNN(k = 3).fit_transform(emp_data), columns = emp_data.columns)"
   ]
  },
  {
   "cell_type": "code",
   "execution_count": 36,
   "metadata": {},
   "outputs": [],
   "source": [
    "#Convert into proper datatypes\n",
    "for i in cat_var:\n",
    "    emp_data.loc[:,i] = emp_data.loc[:,i].round()\n",
    "    emp_data.loc[:,i] = emp_data.loc[:,i].astype('category')\n",
    "\n",
    "   "
   ]
  },
  {
   "cell_type": "markdown",
   "metadata": {},
   "source": [
    "# Feature Selection"
   ]
  },
  {
   "cell_type": "code",
   "execution_count": 37,
   "metadata": {},
   "outputs": [],
   "source": [
    "##Correlation analysis\n",
    "#Correlation plot\n",
    "my_corr = emp_data.loc[:,cont_var]"
   ]
  },
  {
   "cell_type": "code",
   "execution_count": 38,
   "metadata": {},
   "outputs": [
    {
     "data": {
      "text/plain": [
       "[]"
      ]
     },
     "execution_count": 38,
     "metadata": {},
     "output_type": "execute_result"
    },
    {
     "data": {
      "image/png": "[encoded data removed]",
      "text/plain": [
       "<Figure size 720x720 with 2 Axes>"
      ]
     },
     "metadata": {
      "needs_background": "light"
     },
     "output_type": "display_data"
    }
   ],
   "source": [
    "#Set the width and hieght of the plot\n",
    "f, ax = plt.subplots(figsize=(10, 10))\n",
    "\n",
    "#Generate correlation matrix\n",
    "corr = my_corr.corr()\n",
    "\n",
    "#Plot using seaborn library\n",
    "sns.heatmap(corr, mask=np.zeros_like(corr, dtype=np.bool), \n",
    "            cmap=sns.diverging_palette(220, 50, as_cmap=True),\n",
    "            square=True, ax=ax, annot = True)\n",
    "plt.plot()"
   ]
  },
  {
   "cell_type": "code",
   "execution_count": 39,
   "metadata": {
    "scrolled": true
   },
   "outputs": [
    {
     "name": "stdout",
     "output_type": "stream",
     "text": [
      "P value for variable ID is 1.6080240866383493e-172\n",
      "P value for variable Reason for absence is 3.173320358461362e-274\n",
      "P value for variable Month of absence is 7.880940616980664e-27\n",
      "P value for variable Day of the week is 0.000518407960423421\n",
      "P value for variable Seasons is 3.8306652977797314e-42\n",
      "P value for variable Disciplinary failure is 1.127793773112876e-193\n",
      "P value for variable Education is 1.6101418171707504e-110\n",
      "P value for variable Social drinker is 1.404261957723593e-157\n",
      "P value for variable Social smoker is 4.201165033844094e-192\n",
      "P value for variable Pet is 1.0050301293032782e-132\n",
      "P value for variable Son is 7.584418573330562e-121\n"
     ]
    }
   ],
   "source": [
    "#loop for ANOVA test Since the target variable is continuous\n",
    "for i in cat_var:\n",
    "    f, p = stats.f_oneway(emp_data[i], emp_data[\"Absenteeism time in hours\"])\n",
    "    print(\"P value for variable \"+str(i)+\" is \"+str(p))"
   ]
  },
  {
   "cell_type": "code",
   "execution_count": 40,
   "metadata": {
    "scrolled": true
   },
   "outputs": [
    {
     "name": "stdout",
     "output_type": "stream",
     "text": [
      "<class 'pandas.core.frame.DataFrame'>\n",
      "RangeIndex: 740 entries, 0 to 739\n",
      "Data columns (total 20 columns):\n",
      "ID                                 740 non-null category\n",
      "Reason for absence                 740 non-null category\n",
      "Month of absence                   740 non-null category\n",
      "Day of the week                    740 non-null category\n",
      "Seasons                            740 non-null category\n",
      "Transportation expense             740 non-null float64\n",
      "Distance from Residence to Work    740 non-null float64\n",
      "Service time                       740 non-null float64\n",
      "Age                                740 non-null float64\n",
      "Work load Average/day              740 non-null float64\n",
      "Hit target                         740 non-null float64\n",
      "Disciplinary failure               740 non-null category\n",
      "Education                          740 non-null category\n",
      "Son                                740 non-null category\n",
      "Social drinker                     740 non-null category\n",
      "Social smoker                      740 non-null category\n",
      "Pet                                740 non-null category\n",
      "Height                             740 non-null float64\n",
      "Body mass index                    740 non-null float64\n",
      "Absenteeism time in hours          740 non-null float64\n",
      "dtypes: category(11), float64(9)\n",
      "memory usage: 65.0 KB\n"
     ]
    }
   ],
   "source": [
    "# DELETING THE VARIABLES \n",
    "\n",
    "emp_data = emp_data.drop(['Weight'], axis=1)\n",
    "emp_data.info()"
   ]
  },
  {
   "cell_type": "markdown",
   "metadata": {},
   "source": [
    "# Feature Scaling"
   ]
  },
  {
   "cell_type": "code",
   "execution_count": 41,
   "metadata": {},
   "outputs": [],
   "source": [
    "# Seprating categorical and continuous variable after feature selection\n",
    "cat_var = ['ID','Reason for absence','Month of absence','Day of the week',\n",
    "                     'Seasons','Disciplinary failure', 'Education', 'Social drinker',\n",
    "                     'Social smoker', 'Pet', 'Son']\n",
    "cont_var = ['Distance from Residence to Work', 'Service time', 'Age', 'Work load Average/day ', 'Transportation expense',\n",
    "       'Hit target', 'Height', 'Body mass index', 'Absenteeism time in hours']\n"
   ]
  },
  {
   "cell_type": "code",
   "execution_count": 42,
   "metadata": {},
   "outputs": [
    {
     "data": {
      "text/plain": [
       "['Distance from Residence to Work',\n",
       " 'Service time',\n",
       " 'Age',\n",
       " 'Work load Average/day ',\n",
       " 'Transportation expense',\n",
       " 'Hit target',\n",
       " 'Height',\n",
       " 'Body mass index',\n",
       " 'Absenteeism time in hours']"
      ]
     },
     "execution_count": 42,
     "metadata": {},
     "output_type": "execute_result"
    }
   ],
   "source": [
    "cont_var"
   ]
  },
  {
   "cell_type": "code",
   "execution_count": 43,
   "metadata": {},
   "outputs": [
    {
     "data": {
      "text/plain": [
       "(array([  6., 144.,  59.,  39., 181.,  21.,  37.,  42.,   7.,   2., 202.]),\n",
       " array([ 5.        ,  9.27272727, 13.54545455, 17.81818182, 22.09090909,\n",
       "        26.36363636, 30.63636364, 34.90909091, 39.18181818, 43.45454545,\n",
       "        47.72727273, 52.        ]),\n",
       " <a list of 11 Patch objects>)"
      ]
     },
     "execution_count": 43,
     "metadata": {},
     "output_type": "execute_result"
    },
    {
     "data": {
      "image/png": "[encoded data removed]",
      "text/plain": [
       "<Figure size 432x288 with 1 Axes>"
      ]
     },
     "metadata": {
      "needs_background": "light"
     },
     "output_type": "display_data"
    }
   ],
   "source": [
    "# Plotting histogram to overview data distribution of the continuous variable\n",
    "#Histogram of \"Distance from residence to work\"\n",
    "%matplotlib inline     \n",
    "plt.hist(emp_data['Distance from Residence to Work'], bins='auto')"
   ]
  },
  {
   "cell_type": "code",
   "execution_count": 44,
   "metadata": {},
   "outputs": [
    {
     "data": {
      "text/plain": [
       "(array([ 21.,  36.,  20.,  83.,  84.,  79., 122.,  28.,  56.,  51.,  23.,\n",
       "         61.,  16.,   0.,  31.,  29.]),\n",
       " array([205917. , 214500.5, 223084. , 231667.5, 240251. , 248834.5,\n",
       "        257418. , 266001.5, 274585. , 283168.5, 291752. , 300335.5,\n",
       "        308919. , 317502.5, 326086. , 334669.5, 343253. ]),\n",
       " <a list of 16 Patch objects>)"
      ]
     },
     "execution_count": 44,
     "metadata": {},
     "output_type": "execute_result"
    },
    {
     "data": {
      "image/png": "[encoded data removed]",
      "text/plain": [
       "<Figure size 432x288 with 1 Axes>"
      ]
     },
     "metadata": {
      "needs_background": "light"
     },
     "output_type": "display_data"
    }
   ],
   "source": [
    "#Histogram of \"Distance from Work load Average/dayk\"\n",
    "%matplotlib inline     \n",
    "plt.hist(emp_data['Work load Average/day '], bins='auto')"
   ]
  },
  {
   "cell_type": "code",
   "execution_count": 45,
   "metadata": {},
   "outputs": [
    {
     "data": {
      "text/plain": [
       "(array([ 46.,  23., 107.,  87., 127.,  24.,  84.,  39., 170.,   6.,   3.,\n",
       "          5.,  19.]),\n",
       " array([19.        , 20.46153846, 21.92307692, 23.38461538, 24.84615385,\n",
       "        26.30769231, 27.76923077, 29.23076923, 30.69230769, 32.15384615,\n",
       "        33.61538462, 35.07692308, 36.53846154, 38.        ]),\n",
       " <a list of 13 Patch objects>)"
      ]
     },
     "execution_count": 45,
     "metadata": {},
     "output_type": "execute_result"
    },
    {
     "data": {
      "image/png": "[encoded data removed]",
      "text/plain": [
       "<Figure size 432x288 with 1 Axes>"
      ]
     },
     "metadata": {
      "needs_background": "light"
     },
     "output_type": "display_data"
    }
   ],
   "source": [
    "#Histogram of \"Distance from \"Body mass index\"\n",
    "%matplotlib inline     \n",
    "plt.hist(emp_data['Body mass index'], bins='auto')"
   ]
  },
  {
   "cell_type": "code",
   "execution_count": 46,
   "metadata": {},
   "outputs": [
    {
     "data": {
      "text/plain": [
       "(array([126., 160., 123.,  75.,  16.,   9., 209.,   0.,   0.,   2.,   0.,\n",
       "          1.,  19.]),\n",
       " array([ 0.        ,  1.23076923,  2.46153846,  3.69230769,  4.92307692,\n",
       "         6.15384615,  7.38461538,  8.61538462,  9.84615385, 11.07692308,\n",
       "        12.30769231, 13.53846154, 14.76923077, 16.        ]),\n",
       " <a list of 13 Patch objects>)"
      ]
     },
     "execution_count": 46,
     "metadata": {},
     "output_type": "execute_result"
    },
    {
     "data": {
      "image/png": "[encoded data removed]",
      "text/plain": [
       "<Figure size 432x288 with 1 Axes>"
      ]
     },
     "metadata": {
      "needs_background": "light"
     },
     "output_type": "display_data"
    }
   ],
   "source": [
    "#Histogram of \"Distance from \"Absenteeism time in hours\"\n",
    "%matplotlib inline     \n",
    "plt.hist(emp_data['Absenteeism time in hours'], bins='auto')"
   ]
  },
  {
   "cell_type": "code",
   "execution_count": 47,
   "metadata": {},
   "outputs": [],
   "source": [
    "#Nomalisation method to scale the data\n",
    "for i in cont_var:\n",
    "    if i == 'Absenteeism time in hours':\n",
    "        continue\n",
    "    emp_data[i] = (emp_data[i] - emp_data[i].min())/(emp_data[i].max()-emp_data[i].min())"
   ]
  },
  {
   "cell_type": "code",
   "execution_count": 48,
   "metadata": {},
   "outputs": [],
   "source": [
    "emp1=emp_data.copy()\n",
    "\n",
    "# Get dummy variables for categorical variables\n",
    "emp_data = pd.get_dummies(data = emp_data, columns = cat_var)\n",
    "emp_data = emp_data.drop(['Absenteeism time in hours'], axis=1)\n",
    "emp_data=emp_data.join(emp1['Absenteeism time in hours'])"
   ]
  },
  {
   "cell_type": "code",
   "execution_count": 49,
   "metadata": {},
   "outputs": [
    {
     "data": {
      "text/html": [
       "<div>\n",
       "<style scoped>\n",
       "    .dataframe tbody tr th:only-of-type {\n",
       "        vertical-align: middle;\n",
       "    }\n",
       "\n",
       "    .dataframe tbody tr th {\n",
       "        vertical-align: top;\n",
       "    }\n",
       "\n",
       "    .dataframe thead th {\n",
       "        text-align: right;\n",
       "    }\n",
       "</style>\n",
       "<table border=\"1\" class=\"dataframe\">\n",
       "  <thead>\n",
       "    <tr style=\"text-align: right;\">\n",
       "      <th></th>\n",
       "      <th>Transportation expense</th>\n",
       "      <th>Distance from Residence to Work</th>\n",
       "      <th>Service time</th>\n",
       "      <th>Age</th>\n",
       "      <th>Work load Average/day</th>\n",
       "      <th>Hit target</th>\n",
       "      <th>Height</th>\n",
       "      <th>Body mass index</th>\n",
       "      <th>ID_1.0</th>\n",
       "      <th>ID_2.0</th>\n",
       "      <th>...</th>\n",
       "      <th>Pet_2.0</th>\n",
       "      <th>Pet_4.0</th>\n",
       "      <th>Pet_5.0</th>\n",
       "      <th>Pet_8.0</th>\n",
       "      <th>Son_0.0</th>\n",
       "      <th>Son_1.0</th>\n",
       "      <th>Son_2.0</th>\n",
       "      <th>Son_3.0</th>\n",
       "      <th>Son_4.0</th>\n",
       "      <th>Absenteeism time in hours</th>\n",
       "    </tr>\n",
       "  </thead>\n",
       "  <tbody>\n",
       "    <tr>\n",
       "      <th>0</th>\n",
       "      <td>0.657692</td>\n",
       "      <td>0.659574</td>\n",
       "      <td>0.521739</td>\n",
       "      <td>0.230769</td>\n",
       "      <td>0.244925</td>\n",
       "      <td>0.769231</td>\n",
       "      <td>0.700000</td>\n",
       "      <td>0.578947</td>\n",
       "      <td>0</td>\n",
       "      <td>0</td>\n",
       "      <td>...</td>\n",
       "      <td>0</td>\n",
       "      <td>0</td>\n",
       "      <td>0</td>\n",
       "      <td>0</td>\n",
       "      <td>0</td>\n",
       "      <td>0</td>\n",
       "      <td>1</td>\n",
       "      <td>0</td>\n",
       "      <td>0</td>\n",
       "      <td>4.0</td>\n",
       "    </tr>\n",
       "    <tr>\n",
       "      <th>1</th>\n",
       "      <td>0.000000</td>\n",
       "      <td>0.170213</td>\n",
       "      <td>0.739130</td>\n",
       "      <td>0.884615</td>\n",
       "      <td>0.244925</td>\n",
       "      <td>0.769231</td>\n",
       "      <td>0.500001</td>\n",
       "      <td>0.631579</td>\n",
       "      <td>0</td>\n",
       "      <td>0</td>\n",
       "      <td>...</td>\n",
       "      <td>0</td>\n",
       "      <td>0</td>\n",
       "      <td>0</td>\n",
       "      <td>0</td>\n",
       "      <td>0</td>\n",
       "      <td>1</td>\n",
       "      <td>0</td>\n",
       "      <td>0</td>\n",
       "      <td>0</td>\n",
       "      <td>0.0</td>\n",
       "    </tr>\n",
       "    <tr>\n",
       "      <th>2</th>\n",
       "      <td>0.234615</td>\n",
       "      <td>0.978723</td>\n",
       "      <td>0.739130</td>\n",
       "      <td>0.423077</td>\n",
       "      <td>0.244925</td>\n",
       "      <td>0.769231</td>\n",
       "      <td>0.500000</td>\n",
       "      <td>0.631579</td>\n",
       "      <td>0</td>\n",
       "      <td>0</td>\n",
       "      <td>...</td>\n",
       "      <td>0</td>\n",
       "      <td>0</td>\n",
       "      <td>0</td>\n",
       "      <td>0</td>\n",
       "      <td>1</td>\n",
       "      <td>0</td>\n",
       "      <td>0</td>\n",
       "      <td>0</td>\n",
       "      <td>0</td>\n",
       "      <td>2.0</td>\n",
       "    </tr>\n",
       "    <tr>\n",
       "      <th>3</th>\n",
       "      <td>0.619231</td>\n",
       "      <td>0.000000</td>\n",
       "      <td>0.565217</td>\n",
       "      <td>0.461538</td>\n",
       "      <td>0.244925</td>\n",
       "      <td>0.769231</td>\n",
       "      <td>0.300000</td>\n",
       "      <td>0.263158</td>\n",
       "      <td>0</td>\n",
       "      <td>0</td>\n",
       "      <td>...</td>\n",
       "      <td>0</td>\n",
       "      <td>0</td>\n",
       "      <td>0</td>\n",
       "      <td>0</td>\n",
       "      <td>0</td>\n",
       "      <td>0</td>\n",
       "      <td>1</td>\n",
       "      <td>0</td>\n",
       "      <td>0</td>\n",
       "      <td>4.0</td>\n",
       "    </tr>\n",
       "    <tr>\n",
       "      <th>4</th>\n",
       "      <td>0.657692</td>\n",
       "      <td>0.659574</td>\n",
       "      <td>0.521739</td>\n",
       "      <td>0.230769</td>\n",
       "      <td>0.244925</td>\n",
       "      <td>0.769231</td>\n",
       "      <td>0.700000</td>\n",
       "      <td>0.578947</td>\n",
       "      <td>0</td>\n",
       "      <td>0</td>\n",
       "      <td>...</td>\n",
       "      <td>0</td>\n",
       "      <td>0</td>\n",
       "      <td>0</td>\n",
       "      <td>0</td>\n",
       "      <td>0</td>\n",
       "      <td>0</td>\n",
       "      <td>1</td>\n",
       "      <td>0</td>\n",
       "      <td>0</td>\n",
       "      <td>2.0</td>\n",
       "    </tr>\n",
       "  </tbody>\n",
       "</table>\n",
       "<p>5 rows × 117 columns</p>\n",
       "</div>"
      ],
      "text/plain": [
       "   Transportation expense  Distance from Residence to Work  Service time  \\\n",
       "0                0.657692                         0.659574      0.521739   \n",
       "1                0.000000                         0.170213      0.739130   \n",
       "2                0.234615                         0.978723      0.739130   \n",
       "3                0.619231                         0.000000      0.565217   \n",
       "4                0.657692                         0.659574      0.521739   \n",
       "\n",
       "        Age  Work load Average/day   Hit target    Height  Body mass index  \\\n",
       "0  0.230769                0.244925    0.769231  0.700000         0.578947   \n",
       "1  0.884615                0.244925    0.769231  0.500001         0.631579   \n",
       "2  0.423077                0.244925    0.769231  0.500000         0.631579   \n",
       "3  0.461538                0.244925    0.769231  0.300000         0.263158   \n",
       "4  0.230769                0.244925    0.769231  0.700000         0.578947   \n",
       "\n",
       "   ID_1.0  ID_2.0            ...              Pet_2.0  Pet_4.0  Pet_5.0  \\\n",
       "0       0       0            ...                    0        0        0   \n",
       "1       0       0            ...                    0        0        0   \n",
       "2       0       0            ...                    0        0        0   \n",
       "3       0       0            ...                    0        0        0   \n",
       "4       0       0            ...                    0        0        0   \n",
       "\n",
       "   Pet_8.0  Son_0.0  Son_1.0  Son_2.0  Son_3.0  Son_4.0  \\\n",
       "0        0        0        0        1        0        0   \n",
       "1        0        0        1        0        0        0   \n",
       "2        0        1        0        0        0        0   \n",
       "3        0        0        0        1        0        0   \n",
       "4        0        0        0        1        0        0   \n",
       "\n",
       "   Absenteeism time in hours  \n",
       "0                        4.0  \n",
       "1                        0.0  \n",
       "2                        2.0  \n",
       "3                        4.0  \n",
       "4                        2.0  \n",
       "\n",
       "[5 rows x 117 columns]"
      ]
     },
     "execution_count": 49,
     "metadata": {},
     "output_type": "execute_result"
    }
   ],
   "source": [
    "emp_data.head()"
   ]
  },
  {
   "cell_type": "markdown",
   "metadata": {},
   "source": [
    "# Sampling Dataset"
   ]
  },
  {
   "cell_type": "code",
   "execution_count": 50,
   "metadata": {},
   "outputs": [],
   "source": [
    "#Splitting the dataset into train and test dataset\n",
    "train, test = train_test_split(emp_data, test_size=0.2)"
   ]
  },
  {
   "cell_type": "markdown",
   "metadata": {},
   "source": [
    "# Model Building"
   ]
  },
  {
   "cell_type": "markdown",
   "metadata": {},
   "source": [
    "# Decision Tree For Regression"
   ]
  },
  {
   "cell_type": "code",
   "execution_count": 51,
   "metadata": {},
   "outputs": [
    {
     "name": "stdout",
     "output_type": "stream",
     "text": [
      "Root Mean Squared Error For Test data = 3.2022856446998436\n"
     ]
    }
   ],
   "source": [
    "##decision tree for regression\n",
    "# Importing libraries for Decision Tree \n",
    "from sklearn.tree import DecisionTreeRegressor\n",
    "\n",
    "\n",
    "# Building model on top of training dataset\n",
    "fit_DT = DecisionTreeRegressor(max_depth = 2).fit(train.iloc[:,0:116],train.iloc[:,116])\n",
    "# Predicting for test data\n",
    "prediction_DT =fit_DT.predict(test.iloc[:,0:116])\n",
    "#Error metrics \n",
    "rmse_for_test = np.sqrt(mean_squared_error(test.iloc[:,116],prediction_DT))\n",
    "\n",
    "print(\"Root Mean Squared Error For Test data = \"+str(rmse_for_test))\n"
   ]
  },
  {
   "cell_type": "code",
   "execution_count": 52,
   "metadata": {},
   "outputs": [],
   "source": [
    "#defining function to calculate mean absolute percentage error\n",
    "def MAPE(y_true,y_pred):\n",
    "    mape=np.mean(np.abs((y_true - y_pred )/y_true))\n",
    "    return mape"
   ]
  },
  {
   "cell_type": "code",
   "execution_count": 53,
   "metadata": {},
   "outputs": [
    {
     "data": {
      "text/plain": [
       "inf"
      ]
     },
     "execution_count": 53,
     "metadata": {},
     "output_type": "execute_result"
    }
   ],
   "source": [
    "#calculating mape\n",
    "MAPE(test.iloc[:,116],prediction_DT)"
   ]
  },
  {
   "cell_type": "markdown",
   "metadata": {},
   "source": [
    "# Random Forest"
   ]
  },
  {
   "cell_type": "code",
   "execution_count": 54,
   "metadata": {},
   "outputs": [],
   "source": [
    "# Building model on top of training dataset\n",
    "from sklearn.ensemble import RandomForestRegressor\n",
    "\n",
    "fit_RF = RandomForestRegressor(n_estimators = 200).fit(train.iloc[:,0:116], train.iloc[:,116])\n"
   ]
  },
  {
   "cell_type": "code",
   "execution_count": 55,
   "metadata": {},
   "outputs": [],
   "source": [
    "# Predicting for test data\n",
    "prediction_RF = fit_RF.predict(test.iloc[:,0:116])"
   ]
  },
  {
   "cell_type": "code",
   "execution_count": 56,
   "metadata": {},
   "outputs": [
    {
     "name": "stdout",
     "output_type": "stream",
     "text": [
      "Root Mean Squared Error For Test data = 2.883646218125993\n"
     ]
    }
   ],
   "source": [
    "# error metrics\n",
    "rmse_for_test = np.sqrt(mean_squared_error(test.iloc[:,116],prediction_RF))\n",
    "\n",
    "print(\"Root Mean Squared Error For Test data = \"+str(rmse_for_test))"
   ]
  },
  {
   "cell_type": "markdown",
   "metadata": {},
   "source": [
    "# Linear Regresion"
   ]
  },
  {
   "cell_type": "code",
   "execution_count": 57,
   "metadata": {},
   "outputs": [],
   "source": [
    "#importing library for linear regression model\n",
    "import statsmodels.api as sm\n",
    "# Building model on top of training dataset\n",
    "fit_LR = sm.OLS(train.iloc[:,116], train.iloc[:,0:116]).fit()\n"
   ]
  },
  {
   "cell_type": "code",
   "execution_count": 58,
   "metadata": {},
   "outputs": [],
   "source": [
    "#predicting test data\n",
    "prediction_LR = fit_LR.predict(test.iloc[:,0:116])"
   ]
  },
  {
   "cell_type": "code",
   "execution_count": 59,
   "metadata": {},
   "outputs": [
    {
     "name": "stdout",
     "output_type": "stream",
     "text": [
      "Root Mean Squared Error For Test data = 5.213472901844645\n"
     ]
    }
   ],
   "source": [
    "#error metrics\n",
    "rmse_for_test = np.sqrt(mean_squared_error(test.iloc[:,116],prediction_LR))\n",
    "\n",
    "print(\"Root Mean Squared Error For Test data = \"+str(rmse_for_test))"
   ]
  },
  {
   "cell_type": "markdown",
   "metadata": {},
   "source": [
    "# Principal Componenet Analysis"
   ]
  },
  {
   "cell_type": "code",
   "execution_count": 60,
   "metadata": {},
   "outputs": [],
   "source": [
    "target = emp_data['Absenteeism time in hours']"
   ]
  },
  {
   "cell_type": "code",
   "execution_count": 61,
   "metadata": {},
   "outputs": [
    {
     "data": {
      "text/html": [
       "<div>\n",
       "<style scoped>\n",
       "    .dataframe tbody tr th:only-of-type {\n",
       "        vertical-align: middle;\n",
       "    }\n",
       "\n",
       "    .dataframe tbody tr th {\n",
       "        vertical-align: top;\n",
       "    }\n",
       "\n",
       "    .dataframe thead th {\n",
       "        text-align: right;\n",
       "    }\n",
       "</style>\n",
       "<table border=\"1\" class=\"dataframe\">\n",
       "  <thead>\n",
       "    <tr style=\"text-align: right;\">\n",
       "      <th></th>\n",
       "      <th>Transportation expense</th>\n",
       "      <th>Distance from Residence to Work</th>\n",
       "      <th>Service time</th>\n",
       "      <th>Age</th>\n",
       "      <th>Work load Average/day</th>\n",
       "      <th>Hit target</th>\n",
       "      <th>Height</th>\n",
       "      <th>Body mass index</th>\n",
       "      <th>ID_1.0</th>\n",
       "      <th>ID_2.0</th>\n",
       "      <th>...</th>\n",
       "      <th>Pet_2.0</th>\n",
       "      <th>Pet_4.0</th>\n",
       "      <th>Pet_5.0</th>\n",
       "      <th>Pet_8.0</th>\n",
       "      <th>Son_0.0</th>\n",
       "      <th>Son_1.0</th>\n",
       "      <th>Son_2.0</th>\n",
       "      <th>Son_3.0</th>\n",
       "      <th>Son_4.0</th>\n",
       "      <th>Absenteeism time in hours</th>\n",
       "    </tr>\n",
       "  </thead>\n",
       "  <tbody>\n",
       "    <tr>\n",
       "      <th>0</th>\n",
       "      <td>0.657692</td>\n",
       "      <td>0.659574</td>\n",
       "      <td>0.521739</td>\n",
       "      <td>0.230769</td>\n",
       "      <td>0.244925</td>\n",
       "      <td>0.769231</td>\n",
       "      <td>0.700000</td>\n",
       "      <td>0.578947</td>\n",
       "      <td>0</td>\n",
       "      <td>0</td>\n",
       "      <td>...</td>\n",
       "      <td>0</td>\n",
       "      <td>0</td>\n",
       "      <td>0</td>\n",
       "      <td>0</td>\n",
       "      <td>0</td>\n",
       "      <td>0</td>\n",
       "      <td>1</td>\n",
       "      <td>0</td>\n",
       "      <td>0</td>\n",
       "      <td>4.0</td>\n",
       "    </tr>\n",
       "    <tr>\n",
       "      <th>1</th>\n",
       "      <td>0.000000</td>\n",
       "      <td>0.170213</td>\n",
       "      <td>0.739130</td>\n",
       "      <td>0.884615</td>\n",
       "      <td>0.244925</td>\n",
       "      <td>0.769231</td>\n",
       "      <td>0.500001</td>\n",
       "      <td>0.631579</td>\n",
       "      <td>0</td>\n",
       "      <td>0</td>\n",
       "      <td>...</td>\n",
       "      <td>0</td>\n",
       "      <td>0</td>\n",
       "      <td>0</td>\n",
       "      <td>0</td>\n",
       "      <td>0</td>\n",
       "      <td>1</td>\n",
       "      <td>0</td>\n",
       "      <td>0</td>\n",
       "      <td>0</td>\n",
       "      <td>0.0</td>\n",
       "    </tr>\n",
       "    <tr>\n",
       "      <th>2</th>\n",
       "      <td>0.234615</td>\n",
       "      <td>0.978723</td>\n",
       "      <td>0.739130</td>\n",
       "      <td>0.423077</td>\n",
       "      <td>0.244925</td>\n",
       "      <td>0.769231</td>\n",
       "      <td>0.500000</td>\n",
       "      <td>0.631579</td>\n",
       "      <td>0</td>\n",
       "      <td>0</td>\n",
       "      <td>...</td>\n",
       "      <td>0</td>\n",
       "      <td>0</td>\n",
       "      <td>0</td>\n",
       "      <td>0</td>\n",
       "      <td>1</td>\n",
       "      <td>0</td>\n",
       "      <td>0</td>\n",
       "      <td>0</td>\n",
       "      <td>0</td>\n",
       "      <td>2.0</td>\n",
       "    </tr>\n",
       "    <tr>\n",
       "      <th>3</th>\n",
       "      <td>0.619231</td>\n",
       "      <td>0.000000</td>\n",
       "      <td>0.565217</td>\n",
       "      <td>0.461538</td>\n",
       "      <td>0.244925</td>\n",
       "      <td>0.769231</td>\n",
       "      <td>0.300000</td>\n",
       "      <td>0.263158</td>\n",
       "      <td>0</td>\n",
       "      <td>0</td>\n",
       "      <td>...</td>\n",
       "      <td>0</td>\n",
       "      <td>0</td>\n",
       "      <td>0</td>\n",
       "      <td>0</td>\n",
       "      <td>0</td>\n",
       "      <td>0</td>\n",
       "      <td>1</td>\n",
       "      <td>0</td>\n",
       "      <td>0</td>\n",
       "      <td>4.0</td>\n",
       "    </tr>\n",
       "    <tr>\n",
       "      <th>4</th>\n",
       "      <td>0.657692</td>\n",
       "      <td>0.659574</td>\n",
       "      <td>0.521739</td>\n",
       "      <td>0.230769</td>\n",
       "      <td>0.244925</td>\n",
       "      <td>0.769231</td>\n",
       "      <td>0.700000</td>\n",
       "      <td>0.578947</td>\n",
       "      <td>0</td>\n",
       "      <td>0</td>\n",
       "      <td>...</td>\n",
       "      <td>0</td>\n",
       "      <td>0</td>\n",
       "      <td>0</td>\n",
       "      <td>0</td>\n",
       "      <td>0</td>\n",
       "      <td>0</td>\n",
       "      <td>1</td>\n",
       "      <td>0</td>\n",
       "      <td>0</td>\n",
       "      <td>2.0</td>\n",
       "    </tr>\n",
       "  </tbody>\n",
       "</table>\n",
       "<p>5 rows × 117 columns</p>\n",
       "</div>"
      ],
      "text/plain": [
       "   Transportation expense  Distance from Residence to Work  Service time  \\\n",
       "0                0.657692                         0.659574      0.521739   \n",
       "1                0.000000                         0.170213      0.739130   \n",
       "2                0.234615                         0.978723      0.739130   \n",
       "3                0.619231                         0.000000      0.565217   \n",
       "4                0.657692                         0.659574      0.521739   \n",
       "\n",
       "        Age  Work load Average/day   Hit target    Height  Body mass index  \\\n",
       "0  0.230769                0.244925    0.769231  0.700000         0.578947   \n",
       "1  0.884615                0.244925    0.769231  0.500001         0.631579   \n",
       "2  0.423077                0.244925    0.769231  0.500000         0.631579   \n",
       "3  0.461538                0.244925    0.769231  0.300000         0.263158   \n",
       "4  0.230769                0.244925    0.769231  0.700000         0.578947   \n",
       "\n",
       "   ID_1.0  ID_2.0            ...              Pet_2.0  Pet_4.0  Pet_5.0  \\\n",
       "0       0       0            ...                    0        0        0   \n",
       "1       0       0            ...                    0        0        0   \n",
       "2       0       0            ...                    0        0        0   \n",
       "3       0       0            ...                    0        0        0   \n",
       "4       0       0            ...                    0        0        0   \n",
       "\n",
       "   Pet_8.0  Son_0.0  Son_1.0  Son_2.0  Son_3.0  Son_4.0  \\\n",
       "0        0        0        0        1        0        0   \n",
       "1        0        0        1        0        0        0   \n",
       "2        0        1        0        0        0        0   \n",
       "3        0        0        0        1        0        0   \n",
       "4        0        0        0        1        0        0   \n",
       "\n",
       "   Absenteeism time in hours  \n",
       "0                        4.0  \n",
       "1                        0.0  \n",
       "2                        2.0  \n",
       "3                        4.0  \n",
       "4                        2.0  \n",
       "\n",
       "[5 rows x 117 columns]"
      ]
     },
     "execution_count": 61,
     "metadata": {},
     "output_type": "execute_result"
    }
   ],
   "source": [
    "emp_data.head()"
   ]
  },
  {
   "cell_type": "code",
   "execution_count": 62,
   "metadata": {},
   "outputs": [],
   "source": [
    "emp_data.drop(['Absenteeism time in hours'], inplace = True, axis=1)\n"
   ]
  },
  {
   "cell_type": "code",
   "execution_count": 63,
   "metadata": {},
   "outputs": [
    {
     "data": {
      "text/plain": [
       "(740, 116)"
      ]
     },
     "execution_count": 63,
     "metadata": {},
     "output_type": "execute_result"
    }
   ],
   "source": [
    "emp_data.shape"
   ]
  },
  {
   "cell_type": "code",
   "execution_count": 64,
   "metadata": {},
   "outputs": [
    {
     "data": {
      "image/png": "[encoded data removed]",
      "text/plain": [
       "<Figure size 432x288 with 1 Axes>"
      ]
     },
     "metadata": {
      "needs_background": "light"
     },
     "output_type": "display_data"
    }
   ],
   "source": [
    "from sklearn.decomposition import PCA\n",
    "\n",
    "# Converting data to numpy array\n",
    "X = emp_data.values\n",
    "\n",
    "# Data has 116 variables so no of components of PCA = 116\n",
    "pca = PCA(n_components=116)\n",
    "pca.fit(X)\n",
    "\n",
    "# The amount of variance\n",
    "var= pca.explained_variance_ratio_\n",
    "\n",
    "# Cumulative Variance \n",
    "var1=np.cumsum(np.round(pca.explained_variance_ratio_, decimals=4)*100)\n",
    "\n",
    "plt.plot(var1)\n",
    "plt.show()"
   ]
  },
  {
   "cell_type": "code",
   "execution_count": 65,
   "metadata": {},
   "outputs": [],
   "source": [
    "# From the above plot selecting 50 components since it explains almost 95+ % data \n",
    "pca = PCA(n_components=50)\n",
    "\n",
    "# Fitting the selected components to the data\n",
    "pca.fit(X)\n",
    "\n",
    "# Using train_test_split sampling function for test and train data split\n",
    "X_train, X_test, y_train, y_test = train_test_split(X,target, test_size=0.2)"
   ]
  },
  {
   "cell_type": "markdown",
   "metadata": {},
   "source": [
    "# Decision Tree For Regression"
   ]
  },
  {
   "cell_type": "code",
   "execution_count": 66,
   "metadata": {},
   "outputs": [
    {
     "name": "stdout",
     "output_type": "stream",
     "text": [
      "Root Mean Squared Error For Training data = 3.1771204893741425\n",
      "Root Mean Squared Error For Test data = 3.0075240959904663\n"
     ]
    }
   ],
   "source": [
    "# Building model on top of training dataset\n",
    "fit_DT = DecisionTreeRegressor(max_depth = 2).fit(X_train,y_train)\n",
    "\n",
    "# predicting the train data \n",
    "pred_train = fit_DT.predict(X_train)\n",
    "#error metrics for train data\n",
    "rmse_for_train = np.sqrt(mean_squared_error(y_train,pred_train))\n",
    "\n",
    "# predicting the test data\n",
    "pred_test = fit_DT.predict(X_test)\n",
    "#error metrics for test data\n",
    "rmse_for_test =np.sqrt(mean_squared_error(y_test,pred_test))\n",
    "\n",
    "print(\"Root Mean Squared Error For Training data = \"+str(rmse_for_train))\n",
    "print(\"Root Mean Squared Error For Test data = \"+str(rmse_for_test))\n",
    "#print(\"R^2 Score(coefficient of determination) = \"+str(r2_score(y_test,pred_test)))"
   ]
  },
  {
   "cell_type": "markdown",
   "metadata": {},
   "source": [
    "# Random Forest"
   ]
  },
  {
   "cell_type": "code",
   "execution_count": 67,
   "metadata": {},
   "outputs": [
    {
     "name": "stdout",
     "output_type": "stream",
     "text": [
      "Root Mean Squared Error For Training data = 1.1367853516710889\n",
      "Root Mean Squared Error For Test data = 2.5035149809146366\n"
     ]
    }
   ],
   "source": [
    "# Building model on top of training dataset\n",
    "fit_RF = RandomForestRegressor(n_estimators = 500).fit(X_train,y_train)\n",
    "\n",
    "# predicting the train data\n",
    "pred_train = fit_RF.predict(X_train)\n",
    "#error metrics for train data\n",
    "rmse_for_train = np.sqrt(mean_squared_error(y_train,pred_train))\n",
    "\n",
    "#predicting the test data\n",
    "pred_test = fit_RF.predict(X_test)\n",
    "#error metrics for test data\n",
    "rmse_for_test =np.sqrt(mean_squared_error(y_test,pred_test))\n",
    "\n",
    "print(\"Root Mean Squared Error For Training data = \"+str(rmse_for_train))\n",
    "print(\"Root Mean Squared Error For Test data = \"+str(rmse_for_test))"
   ]
  },
  {
   "cell_type": "markdown",
   "metadata": {},
   "source": [
    "# Linear Regression"
   ]
  },
  {
   "cell_type": "code",
   "execution_count": 68,
   "metadata": {},
   "outputs": [
    {
     "name": "stdout",
     "output_type": "stream",
     "text": [
      "Root Mean Squared Error For Training data = 2.4131927144179905\n",
      "Root Mean Squared Error For Test data = 2178285093812.4648\n"
     ]
    }
   ],
   "source": [
    "# Importing libraries for Linear Regression\n",
    "from sklearn.linear_model import LinearRegression\n",
    "# Building model on top of training dataset\n",
    "fit_LR = LinearRegression().fit(X_train ,y_train)\n",
    "\n",
    "#predicting the train data\n",
    "pred_train = fit_LR.predict(X_train)\n",
    "#error metrics for train data\n",
    "rmse_for_train = np.sqrt(mean_squared_error(y_train,pred_train))\n",
    "\n",
    "# predicting the test data\n",
    "pred_test = fit_LR.predict(X_test)\n",
    "#error metrics for test data\n",
    "rmse_for_test =np.sqrt(mean_squared_error(y_test,pred_test))\n",
    "\n",
    "print(\"Root Mean Squared Error For Training data = \"+str(rmse_for_train))\n",
    "print(\"Root Mean Squared Error For Test data = \"+str(rmse_for_test))"
   ]
  },
  {
   "cell_type": "code",
   "execution_count": null,
   "metadata": {},
   "outputs": [],
   "source": []
  }
 ],
 "metadata": {
  "kernelspec": {
   "display_name": "Python 3",
   "language": "python",
   "name": "python3"
  },
  "language_info": {
   "codemirror_mode": {
    "name": "ipython",
    "version": 3
   },
   "file_extension": ".py",
   "mimetype": "text/x-python",
   "name": "python",
   "nbconvert_exporter": "python",
   "pygments_lexer": "ipython3",
   "version": "3.7.1"
  }
 },
 "nbformat": 4,
 "nbformat_minor": 2
}
